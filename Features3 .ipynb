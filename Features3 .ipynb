{
 "cells": [
  {
   "cell_type": "markdown",
   "id": "5ddca683-7562-4e2f-838e-7dc1f9b66807",
   "metadata": {},
   "source": [
    "## 1"
   ]
  },
  {
   "cell_type": "markdown",
   "id": "2b4115d9-1b63-4478-a976-e57f39aea5f6",
   "metadata": {},
   "source": [
    "Ordinal Encoding : it is used when there is ranking based on the categorical features\n",
    "Label Encoding L it is used to give numerical labelling of values in the data set ,by default it will take alphabetical orders"
   ]
  },
  {
   "cell_type": "code",
   "execution_count": 13,
   "id": "e662bfb7-24b4-4c99-9aef-f6e1bc280214",
   "metadata": {},
   "outputs": [],
   "source": [
    "## lABEL ENCODING \n",
    "\n",
    "import pandas as pd\n",
    "\n",
    "df = pd.DataFrame({\"Name\":['Gaurav','Hira','GKD','Hina']})"
   ]
  },
  {
   "cell_type": "code",
   "execution_count": 22,
   "id": "d635ff07-aad5-4947-bd5f-0575515e5674",
   "metadata": {},
   "outputs": [
    {
     "data": {
      "text/html": [
       "<div>\n",
       "<style scoped>\n",
       "    .dataframe tbody tr th:only-of-type {\n",
       "        vertical-align: middle;\n",
       "    }\n",
       "\n",
       "    .dataframe tbody tr th {\n",
       "        vertical-align: top;\n",
       "    }\n",
       "\n",
       "    .dataframe thead th {\n",
       "        text-align: right;\n",
       "    }\n",
       "</style>\n",
       "<table border=\"1\" class=\"dataframe\">\n",
       "  <thead>\n",
       "    <tr style=\"text-align: right;\">\n",
       "      <th></th>\n",
       "      <th>Name</th>\n",
       "    </tr>\n",
       "  </thead>\n",
       "  <tbody>\n",
       "    <tr>\n",
       "      <th>0</th>\n",
       "      <td>Gaurav</td>\n",
       "    </tr>\n",
       "    <tr>\n",
       "      <th>1</th>\n",
       "      <td>Hira</td>\n",
       "    </tr>\n",
       "    <tr>\n",
       "      <th>2</th>\n",
       "      <td>GKD</td>\n",
       "    </tr>\n",
       "    <tr>\n",
       "      <th>3</th>\n",
       "      <td>Hina</td>\n",
       "    </tr>\n",
       "  </tbody>\n",
       "</table>\n",
       "</div>"
      ],
      "text/plain": [
       "     Name\n",
       "0  Gaurav\n",
       "1    Hira\n",
       "2     GKD\n",
       "3    Hina"
      ]
     },
     "execution_count": 22,
     "metadata": {},
     "output_type": "execute_result"
    }
   ],
   "source": [
    "df"
   ]
  },
  {
   "cell_type": "code",
   "execution_count": 23,
   "id": "9d26cb79-5fce-4d2c-8903-2ffb997c2b78",
   "metadata": {},
   "outputs": [],
   "source": [
    "from sklearn.preprocessing import LabelEncoder"
   ]
  },
  {
   "cell_type": "code",
   "execution_count": 24,
   "id": "191750a1-b6b9-4606-8bd8-3a7464ddb0a7",
   "metadata": {},
   "outputs": [],
   "source": [
    "labelenc = LabelEncoder()"
   ]
  },
  {
   "cell_type": "code",
   "execution_count": 25,
   "id": "055095ee-aa6d-4333-a2f6-923bee947397",
   "metadata": {},
   "outputs": [
    {
     "data": {
      "text/plain": [
       "array([1, 3, 0, 2])"
      ]
     },
     "execution_count": 25,
     "metadata": {},
     "output_type": "execute_result"
    }
   ],
   "source": [
    "labelenc.fit_transform(df['Name'])"
   ]
  },
  {
   "cell_type": "code",
   "execution_count": 28,
   "id": "f220be0c-c675-4069-b099-74ee5e7ebeab",
   "metadata": {},
   "outputs": [],
   "source": [
    "## ORDINAL ENCODING\n",
    "from sklearn.preprocessing import OrdinalEncoder\n",
    "ordinalenc = OrdinalEncoder(categories=[['Gaurav','Hira','Hina','GKD']])"
   ]
  },
  {
   "cell_type": "code",
   "execution_count": 29,
   "id": "9d459d63-4595-46a3-ab7d-efc70414a2ec",
   "metadata": {},
   "outputs": [
    {
     "data": {
      "text/plain": [
       "array([[0.],\n",
       "       [1.],\n",
       "       [3.],\n",
       "       [2.]])"
      ]
     },
     "execution_count": 29,
     "metadata": {},
     "output_type": "execute_result"
    }
   ],
   "source": [
    "ordinalenc.fit_transform(df[['Name']])"
   ]
  },
  {
   "cell_type": "markdown",
   "id": "fd034d0b-32cc-4a1f-ba33-7e0dcbee01e9",
   "metadata": {},
   "source": [
    "## 2"
   ]
  },
  {
   "cell_type": "markdown",
   "id": "2bf88a93-c5f9-49a1-afe8-e00dc866280d",
   "metadata": {},
   "source": [
    "Target Guided Ordinal Encoding (TGOE) is a technique used in machine learning for encoding categorical variables based on the target variable. The primary goal is to capture the relationship between the categorical variable and the target variable, which can be useful in improving the predictive power of a model.\n",
    "\n",
    "Here's how Target Guided Ordinal Encoding typically works:\n",
    "\n",
    "Calculate the Mean (or any other measure) of the Target Variable:\n",
    "\n",
    "For each category in the categorical variable, calculate the mean (or another measure, such as median) of the target variable. This means that you calculate the average target variable value for each category.\n",
    "Order the Categories:\n",
    "\n",
    "Order the categories based on the calculated mean values. This ordering is used to assign ordinal values to the categories, with categories having higher mean values receiving higher ordinal values.\n",
    "Assign Ordinal Values:\n",
    "\n",
    "Assign ordinal values to the categories based on the order established in step 2. The category with the highest mean value gets the highest ordinal value, and so on.\n",
    "Replace Categorical Values with Ordinal Values:\n",
    "\n",
    "Replace the original categorical values in the dataset with the corresponding ordinal values assigned in step 3."
   ]
  },
  {
   "cell_type": "markdown",
   "id": "eea198d5-ca8d-46cd-b3a5-06591811f29b",
   "metadata": {},
   "source": [
    "## 3"
   ]
  },
  {
   "cell_type": "markdown",
   "id": "653dc70a-821b-421e-8008-76dc854b5501",
   "metadata": {},
   "source": [
    "Covariance is a statistical measure that quantifies the degree to which two variables change together. In other words, it measures the joint variability of two random variables. Covariance can be used to understand whether an increase in one variable would result in an increase or decrease in another variable"
   ]
  },
  {
   "cell_type": "markdown",
   "id": "527368aa-371a-4966-816e-537ccc601034",
   "metadata": {},
   "source": [
    "If the covariance between two variables is positive, it indicates that when one variable increases, the other variable tends to increase as well. Conversely, if the covariance is negative, it suggests that when one variable increases, the other variable tends to decrease. A covariance of zero implies no linear relationship between the variables, but it doesn't necessarily mean there is no relationship at all"
   ]
  },
  {
   "cell_type": "markdown",
   "id": "18df14df-348d-4737-9fc9-b4a0f633f672",
   "metadata": {},
   "source": [
    "## 4 "
   ]
  },
  {
   "cell_type": "code",
   "execution_count": 30,
   "id": "f600808a-fb6d-45bb-ad22-4bedb0e53e45",
   "metadata": {},
   "outputs": [
    {
     "name": "stdout",
     "output_type": "stream",
     "text": [
      "Original DataFrame:\n",
      "   Color    Size Material\n",
      "0    red   small     wood\n",
      "1  green  medium    metal\n",
      "2   blue   large  plastic\n",
      "3    red  medium     wood\n",
      "4   blue   small    metal\n",
      "\n",
      "Encoded DataFrame:\n",
      "   Color_encoded  Size_encoded  Material_encoded\n",
      "0              2             2                 2\n",
      "1              1             1                 0\n",
      "2              0             0                 1\n",
      "3              2             1                 2\n",
      "4              0             2                 0\n"
     ]
    }
   ],
   "source": [
    "from sklearn.preprocessing import LabelEncoder\n",
    "import pandas as pd\n",
    "\n",
    "# Sample dataset\n",
    "data = {'Color': ['red', 'green', 'blue', 'red', 'blue'],\n",
    "        'Size': ['small', 'medium', 'large', 'medium', 'small'],\n",
    "        'Material': ['wood', 'metal', 'plastic', 'wood', 'metal']}\n",
    "\n",
    "df = pd.DataFrame(data)\n",
    "\n",
    "# Initialize LabelEncoder\n",
    "label_encoder = LabelEncoder()\n",
    "\n",
    "# Apply label encoding to each column\n",
    "for column in df.columns:\n",
    "    df[column+'_encoded'] = label_encoder.fit_transform(df[column])\n",
    "\n",
    "# Display the original and encoded dataframe\n",
    "print(\"Original DataFrame:\")\n",
    "print(df[['Color', 'Size', 'Material']])\n",
    "print(\"\\nEncoded DataFrame:\")\n",
    "print(df[['Color_encoded', 'Size_encoded', 'Material_encoded']])\n"
   ]
  },
  {
   "cell_type": "markdown",
   "id": "5c16367d-0537-4c52-bfca-de11b58b5f89",
   "metadata": {},
   "source": [
    "## 5"
   ]
  },
  {
   "cell_type": "code",
   "execution_count": 31,
   "id": "0a734a07-a149-41fc-bc32-7d895a1c2207",
   "metadata": {},
   "outputs": [
    {
     "name": "stdout",
     "output_type": "stream",
     "text": [
      "Covariance Matrix:\n",
      "[[6.250e+01 1.125e+05 2.500e+01]\n",
      " [1.125e+05 2.550e+08 4.500e+04]\n",
      " [2.500e+01 4.500e+04 1.000e+01]]\n"
     ]
    }
   ],
   "source": [
    "import numpy as np\n",
    "\n",
    "# Sample data\n",
    "age = [25, 30, 35, 40, 45]\n",
    "income = [50000, 60000, 75000, 90000, 80000]\n",
    "education_level = [12, 14, 16, 18, 20]\n",
    "\n",
    "# Create a numpy array for the dataset\n",
    "data = np.array([age, income, education_level])\n",
    "\n",
    "# Calculate the covariance matrix\n",
    "covariance_matrix = np.cov(data)\n",
    "\n",
    "# Display the covariance matrix\n",
    "print(\"Covariance Matrix:\")\n",
    "print(covariance_matrix)\n"
   ]
  },
  {
   "cell_type": "markdown",
   "id": "74642d60-5774-46be-a2c2-21d1b327f10c",
   "metadata": {},
   "source": [
    "## 6"
   ]
  },
  {
   "cell_type": "markdown",
   "id": "5f3d5d51-2163-472f-8ea7-8e130dda83f4",
   "metadata": {},
   "source": [
    "\"Gender\" (Male/Female) : One-hot encoding\n",
    "\"Education Level\" (High School/Bachelor's/Master's/PhD) : Ordinal or one-hot encoding\n",
    "\"Employment Status\" (Unemployed/Part-Time/Full-Time) : Ordinal encoding"
   ]
  },
  {
   "cell_type": "markdown",
   "id": "65ba6576-adcc-42d8-9381-f19de609b694",
   "metadata": {},
   "source": [
    "## 7 "
   ]
  },
  {
   "cell_type": "code",
   "execution_count": 32,
   "id": "aaba68e5-d55e-411b-b0fd-45a4121ea98b",
   "metadata": {},
   "outputs": [
    {
     "name": "stdout",
     "output_type": "stream",
     "text": [
      "Covariance Matrix for Continuous Variables:\n",
      "[[ 17.   27.5]\n",
      " [ 27.5 107.5]]\n",
      "\n",
      "Covariance Matrix for All Variables:\n",
      "[[ 17.    27.5   -2.    -1.  ]\n",
      " [ 27.5  107.5   -5.75  -7.75]\n",
      " [ -2.    -5.75   0.7    0.15]\n",
      " [ -1.    -7.75   0.15   1.3 ]]\n"
     ]
    }
   ],
   "source": [
    "import numpy as np\n",
    "\n",
    "# Sample data\n",
    "temperature = [25, 28, 22, 20, 30]\n",
    "humidity = [60, 70, 75, 55, 80]\n",
    "weather_condition = ['Sunny', 'Cloudy', 'Rainy', 'Sunny', 'Rainy']\n",
    "wind_direction = ['North', 'South', 'East', 'West', 'North']\n",
    "\n",
    "# Create a numpy array for the continuous variables\n",
    "continuous_data = np.array([temperature, humidity])\n",
    "\n",
    "# Calculate the covariance matrix for continuous variables\n",
    "covariance_matrix_continuous = np.cov(continuous_data)\n",
    "\n",
    "# Display the covariance matrix for continuous variables\n",
    "print(\"Covariance Matrix for Continuous Variables:\")\n",
    "print(covariance_matrix_continuous)\n",
    "\n",
    "# Convert categorical variables to numerical values (e.g., using label encoding)\n",
    "from sklearn.preprocessing import LabelEncoder\n",
    "\n",
    "label_encoder = LabelEncoder()\n",
    "weather_condition_encoded = label_encoder.fit_transform(weather_condition)\n",
    "wind_direction_encoded = label_encoder.fit_transform(wind_direction)\n",
    "\n",
    "# Combine continuous and encoded categorical variables\n",
    "all_variables = np.vstack([continuous_data, weather_condition_encoded, wind_direction_encoded])\n",
    "\n",
    "# Calculate the covariance matrix for all variables\n",
    "covariance_matrix_all = np.cov(all_variables)\n",
    "\n",
    "# Display the covariance matrix for all variables\n",
    "print(\"\\nCovariance Matrix for All Variables:\")\n",
    "print(covariance_matrix_all)\n"
   ]
  },
  {
   "cell_type": "code",
   "execution_count": null,
   "id": "3bfdb3fe-3149-45d2-b1dc-7bd4200e373f",
   "metadata": {},
   "outputs": [],
   "source": []
  }
 ],
 "metadata": {
  "kernelspec": {
   "display_name": "Python 3 (ipykernel)",
   "language": "python",
   "name": "python3"
  },
  "language_info": {
   "codemirror_mode": {
    "name": "ipython",
    "version": 3
   },
   "file_extension": ".py",
   "mimetype": "text/x-python",
   "name": "python",
   "nbconvert_exporter": "python",
   "pygments_lexer": "ipython3",
   "version": "3.10.8"
  }
 },
 "nbformat": 4,
 "nbformat_minor": 5
}
